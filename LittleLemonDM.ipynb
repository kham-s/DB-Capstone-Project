{
 "cells": [
  {
   "cell_type": "code",
   "execution_count": 1,
   "metadata": {},
   "outputs": [
    {
     "name": "stdout",
     "output_type": "stream",
     "text": [
      "Requirement already satisfied: mysql-connector-python in c:\\users\\kham\\appdata\\local\\programs\\python\\python311\\lib\\site-packages (8.0.32)\n",
      "Requirement already satisfied: protobuf<=3.20.3,>=3.11.0 in c:\\users\\kham\\appdata\\local\\programs\\python\\python311\\lib\\site-packages (from mysql-connector-python) (3.20.3)\n"
     ]
    }
   ],
   "source": [
    "!pip install mysql-connector-python"
   ]
  },
  {
   "attachments": {},
   "cell_type": "markdown",
   "metadata": {},
   "source": [
    "# Task 1\n",
    "A \"coursera\" user account without password has been set up to connect to mysql.\n",
    "You can change connection parameters to ajust to existing account."
   ]
  },
  {
   "cell_type": "code",
   "execution_count": 12,
   "metadata": {},
   "outputs": [],
   "source": [
    "import mysql.connector as connector\n",
    "connection = connector.connect(user = \"coursera\", password = \"\", db = \"littlelemondm\")\n",
    "cursor = connection.cursor()"
   ]
  },
  {
   "attachments": {},
   "cell_type": "markdown",
   "metadata": {},
   "source": [
    "# Task 2"
   ]
  },
  {
   "cell_type": "code",
   "execution_count": 14,
   "metadata": {},
   "outputs": [
    {
     "name": "stdout",
     "output_type": "stream",
     "text": [
      "[('bookings',), ('customers',), ('menuitems',), ('menus',), ('orders',), ('staffs',)]\n"
     ]
    }
   ],
   "source": [
    "show_tables_query = \"SHOW tables\" \n",
    "cursor.execute(show_tables_query)\n",
    "results = cursor.fetchall()\n",
    "print(results)"
   ]
  },
  {
   "attachments": {},
   "cell_type": "markdown",
   "metadata": {},
   "source": [
    "# Task 3\n",
    "Following previous exercise, as specifications wasn't clear enough, I'll use the field Cost instead of TotalCost."
   ]
  },
  {
   "cell_type": "code",
   "execution_count": 15,
   "metadata": {},
   "outputs": [
    {
     "name": "stdout",
     "output_type": "stream",
     "text": [
      "[('Vanessa McCarthy', '123456798', 'janedoe@mail.com'), ('Marcos Romero', '123456789', 'marcos@mail.com'), ('John Doe', '321456789', 'johndoe@mail.com')]\n"
     ]
    }
   ],
   "source": [
    "task3_query = \"\"\"\n",
    "SELECT DISTINCT FullName, ContactNumber, Email FROM Customers \n",
    "INNER JOIN Orders on Customers.CustomerID = Orders.OrderID\n",
    "WHERE Orders.Cost > 60;\n",
    "\"\"\"\n",
    "cursor.execute(task3_query)\n",
    "results = cursor.fetchall()\n",
    "print(results)"
   ]
  }
 ],
 "metadata": {
  "kernelspec": {
   "display_name": "Python 3",
   "language": "python",
   "name": "python3"
  },
  "language_info": {
   "codemirror_mode": {
    "name": "ipython",
    "version": 3
   },
   "file_extension": ".py",
   "mimetype": "text/x-python",
   "name": "python",
   "nbconvert_exporter": "python",
   "pygments_lexer": "ipython3",
   "version": "3.11.1"
  },
  "orig_nbformat": 4,
  "vscode": {
   "interpreter": {
    "hash": "1ea1a772c11800a5ee3528a6a61192513bcc79b732bfdf03c2920375bf4314e0"
   }
  }
 },
 "nbformat": 4,
 "nbformat_minor": 2
}
